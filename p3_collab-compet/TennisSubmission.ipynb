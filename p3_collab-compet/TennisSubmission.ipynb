{
 "cells": [
  {
   "cell_type": "markdown",
   "metadata": {},
   "source": [
    "# Collaboration and Competition\n",
    "\n",
    "Neilkunal Panchal Deep RL nano Degree\n",
    "---\n",
    "\n",
    "In this notebook, you will learn how to use the Unity ML-Agents environment for the third project of the [Deep Reinforcement Learning Nanodegree](https://www.udacity.com/course/deep-reinforcement-learning-nanodegree--nd893) program.\n",
    "\n",
    "### 1. Start the Environment\n",
    "\n",
    "We begin by importing the necessary packages.  If the code cell below returns an error, please revisit the project instructions to double-check that you have installed [Unity ML-Agents](https://github.com/Unity-Technologies/ml-agents/blob/master/docs/Installation.md) and [NumPy](http://www.numpy.org/)."
   ]
  },
  {
   "cell_type": "code",
   "execution_count": 1,
   "metadata": {},
   "outputs": [],
   "source": [
    "\n",
    "from unityagents import UnityEnvironment\n",
    "import numpy as np\n",
    "import torch"
   ]
  },
  {
   "cell_type": "markdown",
   "metadata": {},
   "source": [
    "Next, we will start the environment!  **_Before running the code cell below_**, change the `file_name` parameter to match the location of the Unity environment that you downloaded.\n",
    "\n",
    "- **Mac**: `\"path/to/Tennis.app\"`\n",
    "- **Windows** (x86): `\"path/to/Tennis_Windows_x86/Tennis.exe\"`\n",
    "- **Windows** (x86_64): `\"path/to/Tennis_Windows_x86_64/Tennis.exe\"`\n",
    "- **Linux** (x86): `\"path/to/Tennis_Linux/Tennis.x86\"`\n",
    "- **Linux** (x86_64): `\"path/to/Tennis_Linux/Tennis.x86_64\"`\n",
    "- **Linux** (x86, headless): `\"path/to/Tennis_Linux_NoVis/Tennis.x86\"`\n",
    "- **Linux** (x86_64, headless): `\"path/to/Tennis_Linux_NoVis/Tennis.x86_64\"`\n",
    "\n",
    "For instance, if you are using a Mac, then you downloaded `Tennis.app`.  If this file is in the same folder as the notebook, then the line below should appear as follows:\n",
    "```\n",
    "env = UnityEnvironment(file_name=\"Tennis.app\")\n",
    "```"
   ]
  },
  {
   "cell_type": "code",
   "execution_count": 2,
   "metadata": {},
   "outputs": [
    {
     "name": "stderr",
     "output_type": "stream",
     "text": [
      "INFO:unityagents:\n",
      "'Academy' started successfully!\n",
      "Unity Academy name: Academy\n",
      "        Number of Brains: 1\n",
      "        Number of External Brains : 1\n",
      "        Lesson number : 0\n",
      "        Reset Parameters :\n",
      "\t\t\n",
      "Unity brain name: TennisBrain\n",
      "        Number of Visual Observations (per agent): 0\n",
      "        Vector Observation space type: continuous\n",
      "        Vector Observation space size (per agent): 8\n",
      "        Number of stacked Vector Observation: 3\n",
      "        Vector Action space type: continuous\n",
      "        Vector Action space size (per agent): 2\n",
      "        Vector Action descriptions: , \n"
     ]
    }
   ],
   "source": [
    "env = UnityEnvironment(file_name=\"/home/neilkunal/Desktop/DeepRL/deep-reinforcement-learning/p3_collab-compet/Tennis_Linux/Tennis.x86_64\")"
   ]
  },
  {
   "cell_type": "markdown",
   "metadata": {},
   "source": [
    "Environments contain **_brains_** which are responsible for deciding the actions of their associated agents. Here we check for the first brain available, and set it as the default brain we will be controlling from Python."
   ]
  },
  {
   "cell_type": "code",
   "execution_count": 3,
   "metadata": {},
   "outputs": [],
   "source": [
    "# get the default brain\n",
    "brain_name = env.brain_names[0]\n",
    "brain = env.brains[brain_name]"
   ]
  },
  {
   "cell_type": "markdown",
   "metadata": {},
   "source": [
    "### 2. Examine the State and Action Spaces\n",
    "\n",
    "In this environment, two agents control rackets to bounce a ball over a net. If an agent hits the ball over the net, it receives a reward of +0.1.  If an agent lets a ball hit the ground or hits the ball out of bounds, it receives a reward of -0.01.  Thus, the goal of each agent is to keep the ball in play.\n",
    "\n",
    "The observation space consists of 8 variables corresponding to the position and velocity of the ball and racket. Two continuous actions are available, corresponding to movement toward (or away from) the net, and jumping. \n",
    "\n",
    "Run the code cell below to print some information about the environment."
   ]
  },
  {
   "cell_type": "code",
   "execution_count": 4,
   "metadata": {},
   "outputs": [
    {
     "name": "stdout",
     "output_type": "stream",
     "text": [
      "Number of agents: 2\n",
      "Size of each action: 2\n",
      "There are 2 agents. Each observes a state with length: 24\n",
      "The state for the first agent looks like: [ 0.          0.          0.          0.          0.          0.\n",
      "  0.          0.          0.          0.          0.          0.\n",
      "  0.          0.          0.          0.         -6.65278625 -1.5\n",
      " -0.          0.          6.83172083  6.         -0.          0.        ]\n"
     ]
    }
   ],
   "source": [
    "# reset the environment\n",
    "env_info = env.reset(train_mode=True)[brain_name]\n",
    "\n",
    "# number of agents \n",
    "num_agents = len(env_info.agents)\n",
    "print('Number of agents:', num_agents)\n",
    "\n",
    "# size of each action\n",
    "action_size = brain.vector_action_space_size\n",
    "print('Size of each action:', action_size)\n",
    "\n",
    "# examine the state space \n",
    "states = env_info.vector_observations\n",
    "state_size = states.shape[1]\n",
    "print('There are {} agents. Each observes a state with length: {}'.format(states.shape[0], state_size))\n",
    "print('The state for the first agent looks like:', states[0])"
   ]
  },
  {
   "cell_type": "markdown",
   "metadata": {},
   "source": [
    "### 3. Take Random Actions in the Environment\n",
    "\n",
    "In the next code cell, you will learn how to use the Python API to control the agents and receive feedback from the environment.\n",
    "\n",
    "Once this cell is executed, you will watch the agents' performance, if they select actions at random with each time step.  A window should pop up that allows you to observe the agents.\n",
    "\n",
    "Of course, as part of the project, you'll have to change the code so that the agents are able to use their experiences to gradually choose better actions when interacting with the environment!"
   ]
  },
  {
   "cell_type": "code",
   "execution_count": null,
   "metadata": {},
   "outputs": [],
   "source": [
    "# for i in range(1, 6):                                      # play game for 5 episodes\n",
    "#     env_info = env.reset(train_mode=False)[brain_name]     # reset the environment    \n",
    "#     states = env_info.vector_observations                  # get the current state (for each agent)\n",
    "#     scores = np.zeros(num_agents)                          # initialize the score (for each agent)\n",
    "#     while True:\n",
    "#         actions = np.random.randn(num_agents, action_size) # select an action (for each agent)\n",
    "#         actions = np.clip(actions, -1, 1)                  # all actions between -1 and 1\n",
    "#         env_info = env.step(actions)[brain_name]           # send all actions to tne environment\n",
    "#         next_states = env_info.vector_observations         # get next state (for each agent)\n",
    "#         rewards = env_info.rewards                         # get reward (for each agent)\n",
    "#         dones = env_info.local_done                        # see if episode finished\n",
    "#         scores += env_info.rewards                         # update the score (for each agent)\n",
    "#         states = next_states                               # roll over states to next time step\n",
    "#         if np.any(dones):                                  # exit loop if episode finished\n",
    "#             break\n",
    "#     print('Score (max over agents) from episode {}: {}'.format(i, np.max(scores)))"
   ]
  },
  {
   "cell_type": "markdown",
   "metadata": {},
   "source": [
    "When finished, you can close the environment."
   ]
  },
  {
   "cell_type": "code",
   "execution_count": null,
   "metadata": {},
   "outputs": [],
   "source": [
    "# env.close()"
   ]
  },
  {
   "cell_type": "code",
   "execution_count": null,
   "metadata": {},
   "outputs": [],
   "source": [
    "from ddpg_agent import Agents\n",
    "import matplotlib.pyplot as plt\n",
    "from collections import deque\n",
    "# num_agents=1\n",
    "# agent = Agents(state_size=state_size, action_size=action_size, num_agents=num_agents, random_seed=0)\n",
    "# agent.action_size\n",
    "agent0 = Agents(state_size=state_size, action_size=action_size, num_agents=1, random_seed=0)\n",
    "agent1 = Agents(state_size=state_size, action_size=action_size, num_agents=1, random_seed=0)\n",
    "\n",
    "# agent0_weights = 'cp_actor0.pth'\n",
    "# agent1_weights = 'cp_actor1.pth'\n",
    "# agent0.actor_local.load_state_dict(torch.load(agent0_weights))\n",
    "# agent1.actor_local.load_state_dict(torch.load(agent1_weights))\n",
    "\n",
    "# agent0_weights = 'checkpoint_actor_0.pth'\n",
    "# agent1_weights = 'checkpoint_actor_1.pth'\n",
    "# agent0.actor_local.load_state_dict(torch.load(agent0_weights))\n",
    "# agent1.actor_local.load_state_dict(torch.load(agent1_weights))\n",
    "\n",
    "# critic0_weights = 'checkpoint_critic_0.pth'\n",
    "# critic1_weights = 'checkpoint_critic_1.pth'\n",
    "# agent0.critic_local.load_state_dict(torch.load(critic0_weights))\n",
    "# agent1.critic_local.load_state_dict(torch.load(critic1_weights))"
   ]
  },
  {
   "cell_type": "markdown",
   "metadata": {},
   "source": [
    "### 4. It's Your Turn!\n",
    "\n",
    "Now it's your turn to train your own agent to solve the environment!  When training the environment, set `train_mode=True`, so that the line for resetting the environment looks like the following:\n",
    "```python\n",
    "env_info = env.reset(train_mode=True)[brain_name]\n",
    "```"
   ]
  },
  {
   "cell_type": "code",
   "execution_count": null,
   "metadata": {},
   "outputs": [],
   "source": [
    "# def ddpg(n_episodes=1000, max_t=10000, print_every=100):\n",
    "#     \"\"\"DDQN Algorithm.\n",
    "    \n",
    "#     Params\n",
    "#     ======\n",
    "#         n_episodes (int): maximum number of training episodes\n",
    "#         max_t (int): maximum number of timesteps per episode\n",
    "#         print_every (int): frequency of printing information throughout iteration \"\"\"\n",
    "    \n",
    "#     scores = []\n",
    "#     scores_deque = deque(maxlen=print_every)\n",
    "    \n",
    "#     for i_episode in range(1, n_episodes+1):\n",
    "#         env_info = env.reset(train_mode=True)[brain_name]\n",
    "#         agent.reset()\n",
    "#         state = env_info.vector_observations[0]            # get the current state\n",
    "#         score = 0\n",
    "#         Toggle = True\n",
    "#         combined_action = np.zeros(num_agents*action_size)\n",
    "#         print(\"combined action is:\", combined_action)\n",
    "#         print(\"combined action[0:1] is:\", combined_action[0:1])\n",
    "#         for t in range(max_t):\n",
    "#             action = agent.act(state)  \n",
    "#             # select an action\n",
    "# #             print(agent)\n",
    "# #             print(state)\n",
    "# #             print(action)\n",
    "#             if Toggle:\n",
    "#                 combined_action[2:4] = action \n",
    "#             else:\n",
    "#                 combined_action[0:2] = action \n",
    "#             env_info = env.step(combined_action)[brain_name]        # send the action to the environment\n",
    "#             next_state = env_info.vector_observations[0]   # get the next state\n",
    "#             reward = env_info.rewards[0]                   # get the reward\n",
    "#             done = env_info.local_done[0]                  # see if episode has finished\n",
    "#             agent.step(state, action, reward, next_state, done) # take step with agent (including learning)\n",
    "#             score += reward                                # update the score\n",
    "#             state = next_state                             # roll over the state to next time step\n",
    "#             if done:                                       # exit loop if episode finished\n",
    "#                 break\n",
    "        \n",
    "#         scores_deque.append(score)       # save most recent score\n",
    "#         scores.append(score)             # save most recent score\n",
    "\n",
    "#         print('\\rEpisode {}\\tAverage Score: {:.2f}'.format(i_episode, np.mean(scores_deque)), end=\"\")\n",
    "        \n",
    "#         if i_episode % print_every == 0:\n",
    "#             print('\\rEpisode {}\\tAverage Score: {:.2f}'.format(i_episode, np.mean(scores_deque)))\n",
    "#             torch.save(agent.actor_local.state_dict(), 'checkpoint_actor.pth')\n",
    "#             torch.save(agent.critic_local.state_dict(), 'checkpoint_critic.pth')\n",
    "        \n",
    "#         if np.mean(scores_deque)>=30.0:\n",
    "#             print('\\nEnvironment solved in {:d} episodes!\\tAverage Score: {:.2f}'.format(i_episode, np.mean(scores_deque)))\n",
    "#             torch.save(agent.actor_local.state_dict(), 'checkpoint_actor.pth')\n",
    "#             torch.save(agent.critic_local.state_dict(), 'checkpoint_critic.pth')\n",
    "#             break\n",
    "            \n",
    "#     return scores"
   ]
  },
  {
   "cell_type": "code",
   "execution_count": null,
   "metadata": {},
   "outputs": [],
   "source": []
  },
  {
   "cell_type": "markdown",
   "metadata": {},
   "source": [
    "The Training is solved when the average over 100 episodes is greater than 0.5"
   ]
  },
  {
   "cell_type": "code",
   "execution_count": null,
   "metadata": {},
   "outputs": [],
   "source": [
    "\n",
    "solved = 0.5\n",
    "consecutiveEpisodes = 100\n",
    "printFrequency = 40\n",
    "addNoise = True\n",
    "\n",
    "def Maddpg(n_episodes=700, max_t=1000, train_mode=True):\n",
    "    \"\"\"Multi-Agent Deep Deterministic Policy Gradient (MADDPG)\n",
    "    \n",
    "    Params\n",
    "    ======\n",
    "        n_episodes (int)      : maximum number of training episodes\n",
    "        max_t (int)           : maximum number of timesteps per episode\n",
    "        train_mode (bool)     : if 'True' set environment to training mode\n",
    "\n",
    "    \"\"\"\n",
    "    def returnActions(states, add_noise):\n",
    "        '''return actions'''\n",
    "        action0 = agent0.act(states, add_noise)    \n",
    "        action1 = agent1.act(states, add_noise)   \n",
    "        out = np.concatenate((action0, action1), axis=0).flatten()\n",
    "        return out\n",
    "    \n",
    "    scores_window = deque(maxlen=consecutiveEpisodes)\n",
    "    scores_all = []\n",
    "    moving_average = []\n",
    "    best_score = -np.inf\n",
    "    best_episode = 0\n",
    "    already_solved = False    \n",
    "\n",
    "    for i_episode in range(1, n_episodes+1):\n",
    "        env_info = env.reset(train_mode=train_mode)[brain_name]  \n",
    "        states = np.reshape(env_info.vector_observations, (1,48)) # combine states\n",
    "        agent0.reset()\n",
    "        \n",
    "        agent1.reset()\n",
    "        scores = np.zeros(num_agents)\n",
    "        while True:\n",
    "            actions = returnActions(states, addNoise)           \n",
    "            env_info = env.step(actions)[brain_name]          \n",
    "            next_states = np.reshape(env_info.vector_observations, (1, 48)) # combine the agent next states\n",
    "            rewards = env_info.rewards                         # get reward\n",
    "            done = env_info.local_done                         # see if episode finished\n",
    "            agent0.step(states, actions, rewards[0], next_states, done, 0) # agent 1 learning\n",
    "            agent1.step(states, actions, rewards[1], next_states, done, 1) # agent 2 learning\n",
    "            scores += np.max(rewards)                          # update the score for each agent\n",
    "            states = next_states                              \n",
    "            if np.any(done):                                   # exit loop if episode finished\n",
    "                break\n",
    "\n",
    "        ep_best_score = np.max(scores)\n",
    "        scores_window.append(ep_best_score)\n",
    "        scores_all.append(ep_best_score)\n",
    "        moving_average.append(np.mean(scores_window))\n",
    "\n",
    "        # save best score                        \n",
    "        if ep_best_score > best_score:\n",
    "            best_score = ep_best_score\n",
    "            best_episode = i_episode\n",
    "        \n",
    "        # print results\n",
    "        if i_episode % printFrequency == 0:\n",
    "            print('Training Episodes {:0>4d} to {:0>4d}\\tRewardMax: {:.3f}\\t RunningMean: {:.3f}'.format(\n",
    "                i_episode-printFrequency, i_episode, np.max(scores_all[-printFrequency:]), moving_average[-1]))\n",
    "\n",
    "        # determine if environment is solved and keep best performing models\n",
    "        if moving_average[-1] - solved >= 0:\n",
    "            if not already_solved:\n",
    "                print(' Environment reached reward > 0.5 in {:d} episodes \\\n",
    "                \\n Running Mean: {:.3f} in last {:d} episodes'.format(\n",
    "                    i_episode-consecutiveEpisodes, moving_average[-1], consecutiveEpisodes))\n",
    "                already_solved = True\n",
    "         \n",
    "                torch.save(agent0.actor_local.state_dict(), 'cpactor0.pth')\n",
    "                torch.save(agent0.critic_local.state_dict(), 'cparitic0.pth')\n",
    "                torch.save(agent1.actor_local.state_dict(), 'cpactor1.pth')\n",
    "                torch.save(agent1.critic_local.state_dict(), 'cpcritic1.pth')\n",
    "            elif ep_best_score >= best_score:\n",
    "                print('Better episode\\\n",
    "                \\nEpisode {:0>4d}\\RewardMax: {:.3f}\\tMoving Average: {:.3f}'.format(\n",
    "                i_episode, ep_best_score, moving_average[-1]))\n",
    "\n",
    "                torch.save(agent0.actor_local.state_dict(), 'cpactor0.pth')\n",
    "                torch.save(agent0.critic_local.state_dict(), 'cpcritic0.pth')\n",
    "                torch.save(agent1.actor_local.state_dict(), 'cpactor1.pth')\n",
    "                torch.save(agent1.critic_local.state_dict(), 'cpcritic1.pth')\n",
    "            else:\n",
    "                continue\n",
    "            \n",
    "    return scores_all, moving_average"
   ]
  },
  {
   "cell_type": "code",
   "execution_count": null,
   "metadata": {},
   "outputs": [
    {
     "name": "stdout",
     "output_type": "stream",
     "text": [
      "Training Episodes 0000 to 0030\tRewardMax: 0.100\t RunningMean: 0.017\n",
      "Training Episodes 0030 to 0060\tRewardMax: 0.100\t RunningMean: 0.017\n",
      "Training Episodes 0060 to 0090\tRewardMax: 0.100\t RunningMean: 0.018\n",
      "Training Episodes 0090 to 0120\tRewardMax: 0.100\t RunningMean: 0.025\n",
      "Training Episodes 0120 to 0150\tRewardMax: 0.200\t RunningMean: 0.030\n",
      "Training Episodes 0150 to 0180\tRewardMax: 0.200\t RunningMean: 0.032\n",
      "Training Episodes 0180 to 0210\tRewardMax: 0.200\t RunningMean: 0.040\n",
      "Training Episodes 0210 to 0240\tRewardMax: 0.200\t RunningMean: 0.048\n",
      "Training Episodes 0240 to 0270\tRewardMax: 0.200\t RunningMean: 0.043\n",
      "Training Episodes 0270 to 0300\tRewardMax: 0.100\t RunningMean: 0.032\n",
      "Training Episodes 0300 to 0330\tRewardMax: 0.200\t RunningMean: 0.021\n",
      "Training Episodes 0330 to 0360\tRewardMax: 0.100\t RunningMean: 0.017\n",
      "Training Episodes 0360 to 0390\tRewardMax: 0.300\t RunningMean: 0.033\n",
      "Training Episodes 0390 to 0420\tRewardMax: 0.400\t RunningMean: 0.049\n",
      "Training Episodes 0420 to 0450\tRewardMax: 0.300\t RunningMean: 0.079\n",
      "Training Episodes 0450 to 0480\tRewardMax: 0.600\t RunningMean: 0.100\n",
      "Training Episodes 0480 to 0510\tRewardMax: 0.300\t RunningMean: 0.103\n",
      "Training Episodes 0510 to 0540\tRewardMax: 0.900\t RunningMean: 0.113\n",
      "Training Episodes 0540 to 0570\tRewardMax: 0.900\t RunningMean: 0.114\n",
      "Training Episodes 0570 to 0600\tRewardMax: 1.100\t RunningMean: 0.159\n",
      " Environment reached reward > 0.5 in 520 episodes                 \n",
      " Running Mean: 0.507 in last 100 episodes\n",
      "Training Episodes 0600 to 0630\tRewardMax: 5.300\t RunningMean: 0.582\n",
      "Better episode                \n",
      "Episode 0652\\RewardMax: 5.300\tMoving Average: 0.950\n",
      "Training Episodes 0630 to 0660\tRewardMax: 5.300\t RunningMean: 0.945\n",
      "Better episode                \n",
      "Episode 0663\\RewardMax: 5.300\tMoving Average: 1.077\n",
      "Training Episodes 0660 to 0690\tRewardMax: 5.300\t RunningMean: 1.157\n",
      "Training Episodes 0690 to 0720\tRewardMax: 0.600\t RunningMean: 0.831\n",
      "Training Episodes 0720 to 0750\tRewardMax: 1.100\t RunningMean: 0.541\n",
      "Training Episodes 0750 to 0780\tRewardMax: 1.800\t RunningMean: 0.285\n",
      "Training Episodes 0780 to 0810\tRewardMax: 5.200\t RunningMean: 0.437\n",
      "Better episode                \n",
      "Episode 0822\\RewardMax: 5.300\tMoving Average: 0.641\n",
      "Better episode                \n",
      "Episode 0835\\RewardMax: 5.300\tMoving Average: 0.941\n",
      "Training Episodes 0810 to 0840\tRewardMax: 5.300\t RunningMean: 0.952\n",
      "Training Episodes 0840 to 0870\tRewardMax: 5.200\t RunningMean: 1.245\n",
      "Training Episodes 0870 to 0900\tRewardMax: 5.200\t RunningMean: 1.496\n",
      "Better episode                \n",
      "Episode 0905\\RewardMax: 5.300\tMoving Average: 1.641\n",
      "Training Episodes 0900 to 0930\tRewardMax: 5.300\t RunningMean: 1.262\n",
      "Training Episodes 0930 to 0960\tRewardMax: 5.200\t RunningMean: 1.247\n",
      "Training Episodes 0960 to 0990\tRewardMax: 5.200\t RunningMean: 1.052\n",
      "Better episode                \n",
      "Episode 1014\\RewardMax: 5.300\tMoving Average: 1.075\n",
      "Training Episodes 0990 to 1020\tRewardMax: 5.300\t RunningMean: 1.121\n",
      "Better episode                \n",
      "Episode 1031\\RewardMax: 5.300\tMoving Average: 1.256\n",
      "Training Episodes 1020 to 1050\tRewardMax: 5.300\t RunningMean: 1.130\n",
      "Training Episodes 1050 to 1080\tRewardMax: 2.500\t RunningMean: 0.948\n",
      "Training Episodes 1080 to 1110\tRewardMax: 0.700\t RunningMean: 0.762\n",
      "Training Episodes 1110 to 1140\tRewardMax: 0.500\t RunningMean: 0.268\n",
      "Training Episodes 1140 to 1170\tRewardMax: 5.200\t RunningMean: 0.403\n",
      "Training Episodes 1170 to 1200\tRewardMax: 5.200\t RunningMean: 0.531\n",
      "Training Episodes 1200 to 1230\tRewardMax: 5.200\t RunningMean: 0.776\n",
      "Training Episodes 1230 to 1260\tRewardMax: 2.700\t RunningMean: 0.775\n",
      "Better episode                \n",
      "Episode 1267\\RewardMax: 5.300\tMoving Average: 0.706\n"
     ]
    }
   ],
   "source": [
    "scores, averages = Maddpg()\n",
    "\n"
   ]
  },
  {
   "cell_type": "code",
   "execution_count": 4,
   "metadata": {},
   "outputs": [
    {
     "ename": "NameError",
     "evalue": "name 'scores' is not defined",
     "output_type": "error",
     "traceback": [
      "\u001b[0;31m---------------------------------------------------------------------------\u001b[0m",
      "\u001b[0;31mNameError\u001b[0m                                 Traceback (most recent call last)",
      "\u001b[0;32m<ipython-input-4-0064cfabe7dc>\u001b[0m in \u001b[0;36m<module>\u001b[0;34m\u001b[0m\n\u001b[1;32m      3\u001b[0m \u001b[0mfig\u001b[0m \u001b[0;34m=\u001b[0m \u001b[0mplt\u001b[0m\u001b[0;34m.\u001b[0m\u001b[0mfigure\u001b[0m\u001b[0;34m(\u001b[0m\u001b[0;34m)\u001b[0m\u001b[0;34m\u001b[0m\u001b[0;34m\u001b[0m\u001b[0m\n\u001b[1;32m      4\u001b[0m \u001b[0max\u001b[0m \u001b[0;34m=\u001b[0m \u001b[0mfig\u001b[0m\u001b[0;34m.\u001b[0m\u001b[0madd_subplot\u001b[0m\u001b[0;34m(\u001b[0m\u001b[0;36m111\u001b[0m\u001b[0;34m)\u001b[0m\u001b[0;34m\u001b[0m\u001b[0;34m\u001b[0m\u001b[0m\n\u001b[0;32m----> 5\u001b[0;31m \u001b[0mplt\u001b[0m\u001b[0;34m.\u001b[0m\u001b[0mplot\u001b[0m\u001b[0;34m(\u001b[0m\u001b[0mnp\u001b[0m\u001b[0;34m.\u001b[0m\u001b[0marange\u001b[0m\u001b[0;34m(\u001b[0m\u001b[0;36m1\u001b[0m\u001b[0;34m,\u001b[0m \u001b[0mlen\u001b[0m\u001b[0;34m(\u001b[0m\u001b[0mscores\u001b[0m\u001b[0;34m)\u001b[0m\u001b[0;34m+\u001b[0m\u001b[0;36m1\u001b[0m\u001b[0;34m)\u001b[0m\u001b[0;34m,\u001b[0m \u001b[0mscores\u001b[0m\u001b[0;34m)\u001b[0m\u001b[0;34m\u001b[0m\u001b[0;34m\u001b[0m\u001b[0m\n\u001b[0m\u001b[1;32m      6\u001b[0m \u001b[0mplt\u001b[0m\u001b[0;34m.\u001b[0m\u001b[0mylabel\u001b[0m\u001b[0;34m(\u001b[0m\u001b[0;34m'Score'\u001b[0m\u001b[0;34m)\u001b[0m\u001b[0;34m\u001b[0m\u001b[0;34m\u001b[0m\u001b[0m\n\u001b[1;32m      7\u001b[0m \u001b[0mplt\u001b[0m\u001b[0;34m.\u001b[0m\u001b[0mxlabel\u001b[0m\u001b[0;34m(\u001b[0m\u001b[0;34m'Episode #'\u001b[0m\u001b[0;34m)\u001b[0m\u001b[0;34m\u001b[0m\u001b[0;34m\u001b[0m\u001b[0m\n",
      "\u001b[0;31mNameError\u001b[0m: name 'scores' is not defined"
     ]
    },
    {
     "data": {
      "image/png": "[encoded data removed]",
      "text/plain": [
       "<Figure size 432x288 with 1 Axes>"
      ]
     },
     "metadata": {
      "needs_background": "light"
     },
     "output_type": "display_data"
    }
   ],
   "source": [
    "import matplotlib.pyplot as plt\n",
    "import numpy as np\n",
    "fig = plt.figure()\n",
    "ax = fig.add_subplot(111)\n",
    "plt.plot(np.arange(1, len(scores)+1), scores)\n",
    "plt.ylabel('Score')\n",
    "plt.xlabel('Episode #')\n",
    "plt.show()"
   ]
  },
  {
   "cell_type": "code",
   "execution_count": 1,
   "metadata": {},
   "outputs": [],
   "source": [
    "consecutiveEpisodes = 10\n",
    "printFrequency = 1\n",
    "addNoise = False"
   ]
  },
  {
   "cell_type": "code",
   "execution_count": null,
   "metadata": {},
   "outputs": [],
   "source": [
    "## reinitialize the agents (if needed)\n",
    "agent0 = Agents(state_size, action_size, num_agents=1, random_seed=0)\n",
    "agent1 = Agents(state_size, action_size, num_agents=1, random_seed=0)\n",
    "\n",
    "# load the weights from file\n",
    "agent0_weights = 'cp_actor0.pth'\n",
    "agent1_weights = 'cp_actor1.pth'\n",
    "agent0.actor_local.load_state_dict(torch.load(agent0_weights))\n",
    "agent1.actor_local.load_state_dict(torch.load(agent1_weights))"
   ]
  },
  {
   "cell_type": "code",
   "execution_count": null,
   "metadata": {},
   "outputs": [],
   "source": [
    "def test(n_episodes=10, max_t=1000, train_mode=False):\n",
    "    def returnActions(states, add_noise):\n",
    "        '''return actions'''\n",
    "        action0 = agent0.act(states, add_noise)    \n",
    "        action1 = agent1.act(states, add_noise)   \n",
    "        out = np.concatenate((action0, action1), axis=0).flatten()\n",
    "        return out\n",
    "\n",
    "    scores_window = deque(maxlen=consecutiveEpisodes)\n",
    "    scores_all = []\n",
    "    moving_average = []  \n",
    "\n",
    "    for i_episode in range(1, n_episodes+1):\n",
    "        env_info = env.reset(train_mode=train_mode)[brain_name]         # reset the environment\n",
    "        states = np.reshape(env_info.vector_observations, (1,48)) # get states and combine them\n",
    "        scores = np.zeros(num_agents)\n",
    "        while True:\n",
    "            actions = returnActions(states, addNoise)           # choose agent actions and combine them\n",
    "            env_info = env.step(actions)[brain_name]           # send both agents' actions together to the environment\n",
    "            next_states = np.reshape(env_info.vector_observations, (1, 48)) # combine the agent next states\n",
    "            rewards = env_info.rewards                         # get reward\n",
    "            done = env_info.local_done                         # see if episode finished\n",
    "            scores += np.max(rewards)                          # update the score for each agent\n",
    "            states = next_states                               # roll over states to next time step\n",
    "            if np.any(done):                                   # exit loop if episode finished\n",
    "                break\n",
    "\n",
    "        ep_best_score = np.max(scores)\n",
    "        scores_window.append(ep_best_score)\n",
    "        scores_all.append(ep_best_score)\n",
    "        moving_average.append(np.mean(scores_window))\n",
    "\n",
    "        # print results\n",
    "        if i_episode % printFrequency == 0:\n",
    "            print('TestingEpisodes {:0>4d}to{:0>4d}\\tRewardMax: {:.3f}\\tRunningMean: {:.3f}'.format(\n",
    "                i_episode-printFrequency, i_episode, np.max(scores_all[-printFrequency:]), moving_average[-1]))\n",
    "            \n",
    "    return scores_all, moving_average\n",
    "test()\n"
   ]
  }
 ],
 "metadata": {
  "kernelspec": {
   "display_name": "Python 3",
   "language": "python",
   "name": "python3"
  },
  "language_info": {
   "codemirror_mode": {
    "name": "ipython",
    "version": 3
   },
   "file_extension": ".py",
   "mimetype": "text/x-python",
   "name": "python",
   "nbconvert_exporter": "python",
   "pygments_lexer": "ipython3",
   "version": "3.6.8"
  }
 },
 "nbformat": 4,
 "nbformat_minor": 2
}
